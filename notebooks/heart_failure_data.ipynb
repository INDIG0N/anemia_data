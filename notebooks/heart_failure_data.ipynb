{
 "cells": [
  {
   "cell_type": "markdown",
   "metadata": {},
   "source": [
    "# Dataset 1: Heart Failure Clinical Records"
   ]
  },
  {
   "cell_type": "markdown",
   "metadata": {},
   "source": [
    "## imports and tables"
   ]
  },
  {
   "cell_type": "code",
   "execution_count": 41,
   "metadata": {},
   "outputs": [],
   "source": [
    "import pandas as pd\n",
    "import numpy as np\n",
    "import matplotlib.pyplot as plt\n",
    "import scipy.stats as stats\n",
    "import seaborn as sns\n",
    "\n",
    "sns.set_palette('colorblind')"
   ]
  },
  {
   "cell_type": "code",
   "execution_count": 42,
   "metadata": {},
   "outputs": [],
   "source": [
    "heart = pd.read_csv('../data/heart_failure_clinical_records_dataset.csv')"
   ]
  },
  {
   "cell_type": "code",
   "execution_count": 43,
   "metadata": {},
   "outputs": [
    {
     "data": {
      "text/html": [
       "<div>\n",
       "<style scoped>\n",
       "    .dataframe tbody tr th:only-of-type {\n",
       "        vertical-align: middle;\n",
       "    }\n",
       "\n",
       "    .dataframe tbody tr th {\n",
       "        vertical-align: top;\n",
       "    }\n",
       "\n",
       "    .dataframe thead th {\n",
       "        text-align: right;\n",
       "    }\n",
       "</style>\n",
       "<table border=\"1\" class=\"dataframe\">\n",
       "  <thead>\n",
       "    <tr style=\"text-align: right;\">\n",
       "      <th></th>\n",
       "      <th>age</th>\n",
       "      <th>anaemia</th>\n",
       "      <th>creatinine_phosphokinase</th>\n",
       "      <th>diabetes</th>\n",
       "      <th>ejection_fraction</th>\n",
       "      <th>high_blood_pressure</th>\n",
       "      <th>platelets</th>\n",
       "      <th>serum_creatinine</th>\n",
       "      <th>serum_sodium</th>\n",
       "      <th>sex</th>\n",
       "      <th>smoking</th>\n",
       "      <th>time</th>\n",
       "      <th>DEATH_EVENT</th>\n",
       "    </tr>\n",
       "  </thead>\n",
       "  <tbody>\n",
       "    <tr>\n",
       "      <th>0</th>\n",
       "      <td>75.0</td>\n",
       "      <td>0</td>\n",
       "      <td>582</td>\n",
       "      <td>0</td>\n",
       "      <td>20</td>\n",
       "      <td>1</td>\n",
       "      <td>265000.00</td>\n",
       "      <td>1.9</td>\n",
       "      <td>130</td>\n",
       "      <td>1</td>\n",
       "      <td>0</td>\n",
       "      <td>4</td>\n",
       "      <td>1</td>\n",
       "    </tr>\n",
       "    <tr>\n",
       "      <th>1</th>\n",
       "      <td>55.0</td>\n",
       "      <td>0</td>\n",
       "      <td>7861</td>\n",
       "      <td>0</td>\n",
       "      <td>38</td>\n",
       "      <td>0</td>\n",
       "      <td>263358.03</td>\n",
       "      <td>1.1</td>\n",
       "      <td>136</td>\n",
       "      <td>1</td>\n",
       "      <td>0</td>\n",
       "      <td>6</td>\n",
       "      <td>1</td>\n",
       "    </tr>\n",
       "    <tr>\n",
       "      <th>2</th>\n",
       "      <td>65.0</td>\n",
       "      <td>0</td>\n",
       "      <td>146</td>\n",
       "      <td>0</td>\n",
       "      <td>20</td>\n",
       "      <td>0</td>\n",
       "      <td>162000.00</td>\n",
       "      <td>1.3</td>\n",
       "      <td>129</td>\n",
       "      <td>1</td>\n",
       "      <td>1</td>\n",
       "      <td>7</td>\n",
       "      <td>1</td>\n",
       "    </tr>\n",
       "    <tr>\n",
       "      <th>3</th>\n",
       "      <td>50.0</td>\n",
       "      <td>1</td>\n",
       "      <td>111</td>\n",
       "      <td>0</td>\n",
       "      <td>20</td>\n",
       "      <td>0</td>\n",
       "      <td>210000.00</td>\n",
       "      <td>1.9</td>\n",
       "      <td>137</td>\n",
       "      <td>1</td>\n",
       "      <td>0</td>\n",
       "      <td>7</td>\n",
       "      <td>1</td>\n",
       "    </tr>\n",
       "    <tr>\n",
       "      <th>4</th>\n",
       "      <td>65.0</td>\n",
       "      <td>1</td>\n",
       "      <td>160</td>\n",
       "      <td>1</td>\n",
       "      <td>20</td>\n",
       "      <td>0</td>\n",
       "      <td>327000.00</td>\n",
       "      <td>2.7</td>\n",
       "      <td>116</td>\n",
       "      <td>0</td>\n",
       "      <td>0</td>\n",
       "      <td>8</td>\n",
       "      <td>1</td>\n",
       "    </tr>\n",
       "  </tbody>\n",
       "</table>\n",
       "</div>"
      ],
      "text/plain": [
       "    age  anaemia  creatinine_phosphokinase  diabetes  ejection_fraction  \\\n",
       "0  75.0        0                       582         0                 20   \n",
       "1  55.0        0                      7861         0                 38   \n",
       "2  65.0        0                       146         0                 20   \n",
       "3  50.0        1                       111         0                 20   \n",
       "4  65.0        1                       160         1                 20   \n",
       "\n",
       "   high_blood_pressure  platelets  serum_creatinine  serum_sodium  sex  \\\n",
       "0                    1  265000.00               1.9           130    1   \n",
       "1                    0  263358.03               1.1           136    1   \n",
       "2                    0  162000.00               1.3           129    1   \n",
       "3                    0  210000.00               1.9           137    1   \n",
       "4                    0  327000.00               2.7           116    0   \n",
       "\n",
       "   smoking  time  DEATH_EVENT  \n",
       "0        0     4            1  \n",
       "1        0     6            1  \n",
       "2        1     7            1  \n",
       "3        0     7            1  \n",
       "4        0     8            1  "
      ]
     },
     "execution_count": 43,
     "metadata": {},
     "output_type": "execute_result"
    }
   ],
   "source": [
    "heart.head()"
   ]
  },
  {
   "cell_type": "code",
   "execution_count": 44,
   "metadata": {},
   "outputs": [
    {
     "name": "stdout",
     "output_type": "stream",
     "text": [
      "<class 'pandas.core.frame.DataFrame'>\n",
      "RangeIndex: 299 entries, 0 to 298\n",
      "Data columns (total 13 columns):\n",
      " #   Column                    Non-Null Count  Dtype  \n",
      "---  ------                    --------------  -----  \n",
      " 0   age                       299 non-null    float64\n",
      " 1   anaemia                   299 non-null    int64  \n",
      " 2   creatinine_phosphokinase  299 non-null    int64  \n",
      " 3   diabetes                  299 non-null    int64  \n",
      " 4   ejection_fraction         299 non-null    int64  \n",
      " 5   high_blood_pressure       299 non-null    int64  \n",
      " 6   platelets                 299 non-null    float64\n",
      " 7   serum_creatinine          299 non-null    float64\n",
      " 8   serum_sodium              299 non-null    int64  \n",
      " 9   sex                       299 non-null    int64  \n",
      " 10  smoking                   299 non-null    int64  \n",
      " 11  time                      299 non-null    int64  \n",
      " 12  DEATH_EVENT               299 non-null    int64  \n",
      "dtypes: float64(3), int64(10)\n",
      "memory usage: 30.5 KB\n"
     ]
    }
   ],
   "source": [
    "heart.info()"
   ]
  },
  {
   "cell_type": "code",
   "execution_count": 45,
   "metadata": {},
   "outputs": [
    {
     "name": "stdout",
     "output_type": "stream",
     "text": [
      "<class 'pandas.core.frame.DataFrame'>\n",
      "Int64Index: 129 entries, 3 to 293\n",
      "Data columns (total 13 columns):\n",
      " #   Column                    Non-Null Count  Dtype  \n",
      "---  ------                    --------------  -----  \n",
      " 0   age                       129 non-null    float64\n",
      " 1   anaemia                   129 non-null    int64  \n",
      " 2   creatinine_phosphokinase  129 non-null    int64  \n",
      " 3   diabetes                  129 non-null    int64  \n",
      " 4   ejection_fraction         129 non-null    int64  \n",
      " 5   high_blood_pressure       129 non-null    int64  \n",
      " 6   platelets                 129 non-null    float64\n",
      " 7   serum_creatinine          129 non-null    float64\n",
      " 8   serum_sodium              129 non-null    int64  \n",
      " 9   sex                       129 non-null    int64  \n",
      " 10  smoking                   129 non-null    int64  \n",
      " 11  time                      129 non-null    int64  \n",
      " 12  DEATH_EVENT               129 non-null    int64  \n",
      "dtypes: float64(3), int64(10)\n",
      "memory usage: 14.1 KB\n"
     ]
    }
   ],
   "source": [
    "anemia = heart[heart['anaemia'] == 1]\n",
    "anemia.info()"
   ]
  },
  {
   "cell_type": "code",
   "execution_count": 46,
   "metadata": {},
   "outputs": [
    {
     "name": "stdout",
     "output_type": "stream",
     "text": [
      "<class 'pandas.core.frame.DataFrame'>\n",
      "Int64Index: 170 entries, 0 to 298\n",
      "Data columns (total 13 columns):\n",
      " #   Column                    Non-Null Count  Dtype  \n",
      "---  ------                    --------------  -----  \n",
      " 0   age                       170 non-null    float64\n",
      " 1   anaemia                   170 non-null    int64  \n",
      " 2   creatinine_phosphokinase  170 non-null    int64  \n",
      " 3   diabetes                  170 non-null    int64  \n",
      " 4   ejection_fraction         170 non-null    int64  \n",
      " 5   high_blood_pressure       170 non-null    int64  \n",
      " 6   platelets                 170 non-null    float64\n",
      " 7   serum_creatinine          170 non-null    float64\n",
      " 8   serum_sodium              170 non-null    int64  \n",
      " 9   sex                       170 non-null    int64  \n",
      " 10  smoking                   170 non-null    int64  \n",
      " 11  time                      170 non-null    int64  \n",
      " 12  DEATH_EVENT               170 non-null    int64  \n",
      "dtypes: float64(3), int64(10)\n",
      "memory usage: 18.6 KB\n"
     ]
    }
   ],
   "source": [
    "no_anemia = heart[heart['anaemia'] == 0]\n",
    "no_anemia.info()"
   ]
  },
  {
   "cell_type": "code",
   "execution_count": 47,
   "metadata": {},
   "outputs": [],
   "source": [
    "no_anemia_men = no_anemia[no_anemia['sex'] == 1]\n",
    "no_anemia_women = no_anemia[no_anemia['sex'] == 0]"
   ]
  },
  {
   "cell_type": "code",
   "execution_count": 48,
   "metadata": {},
   "outputs": [],
   "source": [
    "anemia_men = anemia[anemia['sex'] == 1]\n",
    "anemia_women = anemia[anemia['sex'] == 0]"
   ]
  },
  {
   "cell_type": "code",
   "execution_count": 49,
   "metadata": {},
   "outputs": [
    {
     "name": "stdout",
     "output_type": "stream",
     "text": [
      "<class 'pandas.core.frame.DataFrame'>\n",
      "Int64Index: 117 entries, 0 to 298\n",
      "Data columns (total 13 columns):\n",
      " #   Column                    Non-Null Count  Dtype  \n",
      "---  ------                    --------------  -----  \n",
      " 0   age                       117 non-null    float64\n",
      " 1   anaemia                   117 non-null    int64  \n",
      " 2   creatinine_phosphokinase  117 non-null    int64  \n",
      " 3   diabetes                  117 non-null    int64  \n",
      " 4   ejection_fraction         117 non-null    int64  \n",
      " 5   high_blood_pressure       117 non-null    int64  \n",
      " 6   platelets                 117 non-null    float64\n",
      " 7   serum_creatinine          117 non-null    float64\n",
      " 8   serum_sodium              117 non-null    int64  \n",
      " 9   sex                       117 non-null    int64  \n",
      " 10  smoking                   117 non-null    int64  \n",
      " 11  time                      117 non-null    int64  \n",
      " 12  DEATH_EVENT               117 non-null    int64  \n",
      "dtypes: float64(3), int64(10)\n",
      "memory usage: 12.8 KB\n"
     ]
    }
   ],
   "source": [
    "no_anemia_men.info()"
   ]
  },
  {
   "cell_type": "code",
   "execution_count": 50,
   "metadata": {},
   "outputs": [
    {
     "name": "stdout",
     "output_type": "stream",
     "text": [
      "<class 'pandas.core.frame.DataFrame'>\n",
      "Int64Index: 53 entries, 8 to 296\n",
      "Data columns (total 13 columns):\n",
      " #   Column                    Non-Null Count  Dtype  \n",
      "---  ------                    --------------  -----  \n",
      " 0   age                       53 non-null     float64\n",
      " 1   anaemia                   53 non-null     int64  \n",
      " 2   creatinine_phosphokinase  53 non-null     int64  \n",
      " 3   diabetes                  53 non-null     int64  \n",
      " 4   ejection_fraction         53 non-null     int64  \n",
      " 5   high_blood_pressure       53 non-null     int64  \n",
      " 6   platelets                 53 non-null     float64\n",
      " 7   serum_creatinine          53 non-null     float64\n",
      " 8   serum_sodium              53 non-null     int64  \n",
      " 9   sex                       53 non-null     int64  \n",
      " 10  smoking                   53 non-null     int64  \n",
      " 11  time                      53 non-null     int64  \n",
      " 12  DEATH_EVENT               53 non-null     int64  \n",
      "dtypes: float64(3), int64(10)\n",
      "memory usage: 5.8 KB\n"
     ]
    }
   ],
   "source": [
    "no_anemia_women.info()"
   ]
  },
  {
   "cell_type": "code",
   "execution_count": 51,
   "metadata": {},
   "outputs": [
    {
     "name": "stdout",
     "output_type": "stream",
     "text": [
      "<class 'pandas.core.frame.DataFrame'>\n",
      "Int64Index: 77 entries, 3 to 293\n",
      "Data columns (total 13 columns):\n",
      " #   Column                    Non-Null Count  Dtype  \n",
      "---  ------                    --------------  -----  \n",
      " 0   age                       77 non-null     float64\n",
      " 1   anaemia                   77 non-null     int64  \n",
      " 2   creatinine_phosphokinase  77 non-null     int64  \n",
      " 3   diabetes                  77 non-null     int64  \n",
      " 4   ejection_fraction         77 non-null     int64  \n",
      " 5   high_blood_pressure       77 non-null     int64  \n",
      " 6   platelets                 77 non-null     float64\n",
      " 7   serum_creatinine          77 non-null     float64\n",
      " 8   serum_sodium              77 non-null     int64  \n",
      " 9   sex                       77 non-null     int64  \n",
      " 10  smoking                   77 non-null     int64  \n",
      " 11  time                      77 non-null     int64  \n",
      " 12  DEATH_EVENT               77 non-null     int64  \n",
      "dtypes: float64(3), int64(10)\n",
      "memory usage: 8.4 KB\n"
     ]
    }
   ],
   "source": [
    "anemia_men.info()"
   ]
  },
  {
   "cell_type": "code",
   "execution_count": 52,
   "metadata": {},
   "outputs": [
    {
     "name": "stdout",
     "output_type": "stream",
     "text": [
      "<class 'pandas.core.frame.DataFrame'>\n",
      "Int64Index: 52 entries, 4 to 289\n",
      "Data columns (total 13 columns):\n",
      " #   Column                    Non-Null Count  Dtype  \n",
      "---  ------                    --------------  -----  \n",
      " 0   age                       52 non-null     float64\n",
      " 1   anaemia                   52 non-null     int64  \n",
      " 2   creatinine_phosphokinase  52 non-null     int64  \n",
      " 3   diabetes                  52 non-null     int64  \n",
      " 4   ejection_fraction         52 non-null     int64  \n",
      " 5   high_blood_pressure       52 non-null     int64  \n",
      " 6   platelets                 52 non-null     float64\n",
      " 7   serum_creatinine          52 non-null     float64\n",
      " 8   serum_sodium              52 non-null     int64  \n",
      " 9   sex                       52 non-null     int64  \n",
      " 10  smoking                   52 non-null     int64  \n",
      " 11  time                      52 non-null     int64  \n",
      " 12  DEATH_EVENT               52 non-null     int64  \n",
      "dtypes: float64(3), int64(10)\n",
      "memory usage: 5.7 KB\n"
     ]
    }
   ],
   "source": [
    "anemia_women.info()"
   ]
  },
  {
   "cell_type": "markdown",
   "metadata": {},
   "source": [
    " "
   ]
  },
  {
   "cell_type": "markdown",
   "metadata": {},
   "source": [
    " "
   ]
  },
  {
   "cell_type": "markdown",
   "metadata": {},
   "source": [
    "## Hypothesis testing"
   ]
  },
  {
   "cell_type": "markdown",
   "metadata": {},
   "source": [
    "### Do people with anemia have abnormal platelet counts?"
   ]
  },
  {
   "cell_type": "code",
   "execution_count": 53,
   "metadata": {},
   "outputs": [
    {
     "name": "stdout",
     "output_type": "stream",
     "text": [
      "Mean platelet counts (kiloplatelets / mL) for patients with anemia: 258450 \n",
      "\n",
      "Mean platelet counts (kiloplatelets / mL) for patients without anemia: 267082\n"
     ]
    }
   ],
   "source": [
    "print(f'Mean platelet counts (kiloplatelets / mL) for patients with anemia: {round(anemia[\"platelets\"].mean())} \\n')\n",
    "print(f'Mean platelet counts (kiloplatelets / mL) for patients without anemia: {round(no_anemia[\"platelets\"].mean())}')"
   ]
  },
  {
   "cell_type": "markdown",
   "metadata": {},
   "source": [
    "#### The difference of the means is about 10,000. Is this simply due to chance, or is there something here?"
   ]
  },
  {
   "cell_type": "markdown",
   "metadata": {},
   "source": [
    "#### Let's break out the graph."
   ]
  },
  {
   "cell_type": "code",
   "execution_count": 54,
   "metadata": {},
   "outputs": [
    {
     "data": {
      "image/png": "[encoded data removed]",
      "text/plain": [
       "<Figure size 432x288 with 1 Axes>"
      ]
     },
     "metadata": {
      "needs_background": "light"
     },
     "output_type": "display_data"
    }
   ],
   "source": [
    "g1 = sns.boxplot(x = heart['anaemia'], y = heart['platelets'])\n",
    "g1.set_xticklabels(['No anemia', 'Anemia'])\n",
    "g1.set_xlabel('Anemia Status')\n",
    "g1.set_ylabel('platelet counts (kiloplatelets / mL)')\n",
    "g1.set(ylim = (0, None))\n",
    "g1.set_title('Platelet Counts in Anemic and Non-anemic Individuals')\n",
    "\n",
    "fig = g1.get_figure()\n",
    "fig.savefig('../images/Platelets.jpeg')"
   ]
  },
  {
   "cell_type": "markdown",
   "metadata": {},
   "source": [
    "#### H0: Platelet counts in people who have anemia are no different than the average person.\n",
    "\n",
    "#### H1: Platelet counts in people who have anemia are, on average, lower than the average person.\n",
    "\n",
    "#### P-VALUE: 0.05"
   ]
  },
  {
   "cell_type": "code",
   "execution_count": 55,
   "metadata": {},
   "outputs": [
    {
     "data": {
      "text/plain": [
       "Ttest_indResult(statistic=-0.7553108790369495, pvalue=0.450661035974825)"
      ]
     },
     "execution_count": 55,
     "metadata": {},
     "output_type": "execute_result"
    }
   ],
   "source": [
    "stats.ttest_ind(anemia['platelets'], no_anemia['platelets'])"
   ]
  },
  {
   "cell_type": "markdown",
   "metadata": {},
   "source": [
    "####  With a p-value of 0.45, I do not have enough evidence to reject the null hypothesis"
   ]
  },
  {
   "cell_type": "markdown",
   "metadata": {},
   "source": [
    " "
   ]
  },
  {
   "cell_type": "markdown",
   "metadata": {},
   "source": [
    " "
   ]
  },
  {
   "cell_type": "markdown",
   "metadata": {},
   "source": [
    "### Do people with anemia have abnormal serum creatinine levels?"
   ]
  },
  {
   "cell_type": "code",
   "execution_count": 56,
   "metadata": {},
   "outputs": [
    {
     "name": "stdout",
     "output_type": "stream",
     "text": [
      "Mean serum_creatiine level (mg / dL) for patients with anemia: 1.4557364341085273 \n",
      "\n",
      "Mean serum_creatinine level (mg / dL) for patients without anemia: 1.3469411764705885\n"
     ]
    }
   ],
   "source": [
    "print(f'Mean serum_creatiine level (mg / dL) for patients with anemia: {anemia[\"serum_creatinine\"].mean()} \\n')\n",
    "print(f'Mean serum_creatinine level (mg / dL) for patients without anemia: {no_anemia[\"serum_creatinine\"].mean()}')"
   ]
  },
  {
   "cell_type": "markdown",
   "metadata": {},
   "source": [
    "#### H0: Serum creatinine levels in people who have anemia are no different than the average person.\n",
    "\n",
    "#### H1: Serum creatinine levels in people who have anemia are, on average, higher than the average person.\n",
    "\n",
    "#### P-VALUE: 0.05"
   ]
  },
  {
   "cell_type": "code",
   "execution_count": 57,
   "metadata": {},
   "outputs": [
    {
     "data": {
      "text/plain": [
       "Ttest_indResult(statistic=0.9003698806485976, pvalue=0.3686529186235826)"
      ]
     },
     "execution_count": 57,
     "metadata": {},
     "output_type": "execute_result"
    }
   ],
   "source": [
    "stats.ttest_ind(anemia['serum_creatinine'], no_anemia['serum_creatinine'])"
   ]
  },
  {
   "cell_type": "markdown",
   "metadata": {},
   "source": [
    "####  With a p-value of 0.37, I do not have enough evidence to reject the null hypothesis"
   ]
  },
  {
   "cell_type": "markdown",
   "metadata": {},
   "source": [
    " "
   ]
  },
  {
   "cell_type": "markdown",
   "metadata": {},
   "source": [
    " "
   ]
  },
  {
   "cell_type": "markdown",
   "metadata": {},
   "source": [
    "### Do people with anemia have an abnormal ejection fraction?"
   ]
  },
  {
   "cell_type": "markdown",
   "metadata": {},
   "source": [
    "### Anemia is often defined as having low blood cell counts, so the heart might be pushing out more of an anemic person's blood in one go."
   ]
  },
  {
   "cell_type": "markdown",
   "metadata": {},
   "source": [
    "#### H0: The ejection fraction of anemic patients and non-anemic patients is no different.\n",
    "\n",
    "#### H1: The ejection fraction of anemic patients is lower than that of non-anemic patients.\n",
    "\n",
    "#### P-VALUE: 0.05"
   ]
  },
  {
   "cell_type": "code",
   "execution_count": 58,
   "metadata": {},
   "outputs": [
    {
     "name": "stdout",
     "output_type": "stream",
     "text": [
      "Mean ejection fraction (%) for patients with anemia: 38.51 \n",
      "\n",
      "Mean  ejection fraction (%) for patients without anemia: 37.76\n"
     ]
    }
   ],
   "source": [
    "print(f'Mean ejection fraction (%) for patients with anemia: {round(anemia[\"ejection_fraction\"].mean(), 2)} \\n')\n",
    "print(f'Mean  ejection fraction (%) for patients without anemia: {round(no_anemia[\"ejection_fraction\"].mean(), 2)}')"
   ]
  },
  {
   "cell_type": "code",
   "execution_count": 59,
   "metadata": {},
   "outputs": [
    {
     "data": {
      "image/png": "[encoded data removed]",
      "text/plain": [
       "<Figure size 432x288 with 1 Axes>"
      ]
     },
     "metadata": {
      "needs_background": "light"
     },
     "output_type": "display_data"
    }
   ],
   "source": [
    "g = sns.boxplot(x = heart['anaemia'], y = heart['ejection_fraction'])\n",
    "g.set_xticklabels(['No anemia', 'Anemia'])\n",
    "g.set_xlabel('Anemia Status')\n",
    "g.set_ylabel('Ejection Fraction (%)')\n",
    "g.set(ylim = (0, None))\n",
    "g.set_title('Ejection Fraction in Anemic and Non-anemic Individuals')\n",
    "\n",
    "fig1 = g.get_figure()\n",
    "fig1.savefig('../images/ejection_fraction.jpeg')"
   ]
  },
  {
   "cell_type": "code",
   "execution_count": 60,
   "metadata": {},
   "outputs": [
    {
     "data": {
      "text/plain": [
       "Ttest_indResult(statistic=0.5441139797356926, pvalue=0.5867712790849238)"
      ]
     },
     "execution_count": 60,
     "metadata": {},
     "output_type": "execute_result"
    }
   ],
   "source": [
    "stats.ttest_ind(anemia['ejection_fraction'], no_anemia['ejection_fraction'])"
   ]
  },
  {
   "cell_type": "markdown",
   "metadata": {},
   "source": [
    "#### With a p-value of 0.58, I can't reject the null hypothesis"
   ]
  },
  {
   "cell_type": "code",
   "execution_count": null,
   "metadata": {},
   "outputs": [],
   "source": []
  }
 ],
 "metadata": {
  "kernelspec": {
   "display_name": "Python 3",
   "language": "python",
   "name": "python3"
  },
  "language_info": {
   "codemirror_mode": {
    "name": "ipython",
    "version": 3
   },
   "file_extension": ".py",
   "mimetype": "text/x-python",
   "name": "python",
   "nbconvert_exporter": "python",
   "pygments_lexer": "ipython3",
   "version": "3.8.5"
  }
 },
 "nbformat": 4,
 "nbformat_minor": 4
}
