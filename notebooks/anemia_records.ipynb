{
 "cells": [
  {
   "cell_type": "markdown",
   "metadata": {},
   "source": [
    "# Dataset 2: Anemia Records"
   ]
  },
  {
   "cell_type": "markdown",
   "metadata": {},
   "source": [
    "## Basic EDA"
   ]
  },
  {
   "cell_type": "code",
   "execution_count": 77,
   "metadata": {},
   "outputs": [],
   "source": [
    "import numpy as np\n",
    "import pandas as pd\n",
    "import scipy.stats as stats\n",
    "import matplotlib.pyplot as plt\n",
    "import seaborn as sns\n",
    "\n",
    "import sys\n",
    "sys.path.insert(0, '../src/')\n",
    "import helper_functions as helpers"
   ]
  },
  {
   "cell_type": "code",
   "execution_count": 78,
   "metadata": {},
   "outputs": [],
   "source": [
    "full = pd.read_csv('../data/Anemia.csv')\n",
    "\n",
    "anemia = full[full['IDENTIFICATION'] == 'Anemia']\n",
    "no_anemia = full[full['IDENTIFICATION'] == 'Not Anemia']\n",
    "\n",
    "male_anemia = anemia[anemia['GENDER'] == 'Male']\n",
    "female_anemia = anemia[anemia['GENDER'] == 'Female']\n",
    "\n",
    "male_no_anemia = no_anemia[no_anemia['GENDER'] == 'Male']\n",
    "female_no_anemia = no_anemia[no_anemia['GENDER'] == 'Female']"
   ]
  },
  {
   "cell_type": "code",
   "execution_count": 79,
   "metadata": {},
   "outputs": [],
   "source": [
    "full['MINIMUM_EXPECTED'] = full['REFERENCE_INTERVAL'].apply(helpers.find_min)"
   ]
  },
  {
   "cell_type": "code",
   "execution_count": 80,
   "metadata": {},
   "outputs": [],
   "source": [
    "full['MAXIMUM_EXPECTED'] = full['REFERENCE_INTERVAL'].apply(helpers.find_max)"
   ]
  },
  {
   "cell_type": "code",
   "execution_count": 81,
   "metadata": {
    "collapsed": true,
    "jupyter": {
     "outputs_hidden": true
    }
   },
   "outputs": [
    {
     "data": {
      "text/html": [
       "<div>\n",
       "<style scoped>\n",
       "    .dataframe tbody tr th:only-of-type {\n",
       "        vertical-align: middle;\n",
       "    }\n",
       "\n",
       "    .dataframe tbody tr th {\n",
       "        vertical-align: top;\n",
       "    }\n",
       "\n",
       "    .dataframe thead th {\n",
       "        text-align: right;\n",
       "    }\n",
       "</style>\n",
       "<table border=\"1\" class=\"dataframe\">\n",
       "  <thead>\n",
       "    <tr style=\"text-align: right;\">\n",
       "      <th></th>\n",
       "      <th>NO</th>\n",
       "      <th>LAB_TEST</th>\n",
       "      <th>RESULT</th>\n",
       "      <th>REFERENCE_INTERVAL</th>\n",
       "      <th>GENDER</th>\n",
       "      <th>IDENTIFICATION</th>\n",
       "      <th>MINIMUM_EXPECTED</th>\n",
       "      <th>MAXIMUM_EXPECTED</th>\n",
       "    </tr>\n",
       "  </thead>\n",
       "  <tbody>\n",
       "    <tr>\n",
       "      <th>0</th>\n",
       "      <td>1</td>\n",
       "      <td>Hemoglobin</td>\n",
       "      <td>14.9</td>\n",
       "      <td>13.5 - 17.5</td>\n",
       "      <td>Male</td>\n",
       "      <td>Not Anemia</td>\n",
       "      <td>13.5</td>\n",
       "      <td>17.5</td>\n",
       "    </tr>\n",
       "    <tr>\n",
       "      <th>1</th>\n",
       "      <td>1</td>\n",
       "      <td>MCH</td>\n",
       "      <td>22.7</td>\n",
       "      <td>27.0 - 31.0</td>\n",
       "      <td>Male</td>\n",
       "      <td>Not Anemia</td>\n",
       "      <td>27.0</td>\n",
       "      <td>31.0</td>\n",
       "    </tr>\n",
       "    <tr>\n",
       "      <th>2</th>\n",
       "      <td>1</td>\n",
       "      <td>MCHC</td>\n",
       "      <td>29.1</td>\n",
       "      <td>32.0 - 36.0</td>\n",
       "      <td>Male</td>\n",
       "      <td>Not Anemia</td>\n",
       "      <td>32.0</td>\n",
       "      <td>36.0</td>\n",
       "    </tr>\n",
       "    <tr>\n",
       "      <th>3</th>\n",
       "      <td>1</td>\n",
       "      <td>MCV</td>\n",
       "      <td>83.7</td>\n",
       "      <td>82.0 - 92.0</td>\n",
       "      <td>Male</td>\n",
       "      <td>Not Anemia</td>\n",
       "      <td>82.0</td>\n",
       "      <td>92.0</td>\n",
       "    </tr>\n",
       "    <tr>\n",
       "      <th>4</th>\n",
       "      <td>2</td>\n",
       "      <td>Hemoglobin</td>\n",
       "      <td>15.9</td>\n",
       "      <td>12.0 - 16.0</td>\n",
       "      <td>Female</td>\n",
       "      <td>Not Anemia</td>\n",
       "      <td>12.0</td>\n",
       "      <td>16.0</td>\n",
       "    </tr>\n",
       "  </tbody>\n",
       "</table>\n",
       "</div>"
      ],
      "text/plain": [
       "   NO    LAB_TEST  RESULT REFERENCE_INTERVAL  GENDER IDENTIFICATION  \\\n",
       "0   1  Hemoglobin    14.9        13.5 - 17.5    Male     Not Anemia   \n",
       "1   1         MCH    22.7        27.0 - 31.0    Male     Not Anemia   \n",
       "2   1        MCHC    29.1        32.0 - 36.0    Male     Not Anemia   \n",
       "3   1         MCV    83.7        82.0 - 92.0    Male     Not Anemia   \n",
       "4   2  Hemoglobin    15.9        12.0 - 16.0  Female     Not Anemia   \n",
       "\n",
       "   MINIMUM_EXPECTED  MAXIMUM_EXPECTED  \n",
       "0              13.5              17.5  \n",
       "1              27.0              31.0  \n",
       "2              32.0              36.0  \n",
       "3              82.0              92.0  \n",
       "4              12.0              16.0  "
      ]
     },
     "execution_count": 81,
     "metadata": {},
     "output_type": "execute_result"
    }
   ],
   "source": [
    "full.head()"
   ]
  },
  {
   "cell_type": "code",
   "execution_count": 82,
   "metadata": {
    "collapsed": true,
    "jupyter": {
     "outputs_hidden": true
    }
   },
   "outputs": [
    {
     "name": "stdout",
     "output_type": "stream",
     "text": [
      "<class 'pandas.core.frame.DataFrame'>\n",
      "RangeIndex: 5684 entries, 0 to 5683\n",
      "Data columns (total 8 columns):\n",
      " #   Column              Non-Null Count  Dtype  \n",
      "---  ------              --------------  -----  \n",
      " 0   NO                  5684 non-null   int64  \n",
      " 1   LAB_TEST            5684 non-null   object \n",
      " 2   RESULT              5684 non-null   float64\n",
      " 3   REFERENCE_INTERVAL  5684 non-null   object \n",
      " 4   GENDER              5684 non-null   object \n",
      " 5   IDENTIFICATION      5684 non-null   object \n",
      " 6   MINIMUM_EXPECTED    5684 non-null   float64\n",
      " 7   MAXIMUM_EXPECTED    5684 non-null   float64\n",
      "dtypes: float64(3), int64(1), object(4)\n",
      "memory usage: 355.4+ KB\n"
     ]
    }
   ],
   "source": [
    "full.info()"
   ]
  },
  {
   "cell_type": "code",
   "execution_count": 83,
   "metadata": {
    "collapsed": true,
    "jupyter": {
     "outputs_hidden": true
    }
   },
   "outputs": [
    {
     "name": "stdout",
     "output_type": "stream",
     "text": [
      "<class 'pandas.core.frame.DataFrame'>\n",
      "Int64Index: 2480 entries, 8 to 5683\n",
      "Data columns (total 6 columns):\n",
      " #   Column              Non-Null Count  Dtype  \n",
      "---  ------              --------------  -----  \n",
      " 0   NO                  2480 non-null   int64  \n",
      " 1   LAB_TEST            2480 non-null   object \n",
      " 2   RESULT              2480 non-null   float64\n",
      " 3   REFERENCE_INTERVAL  2480 non-null   object \n",
      " 4   GENDER              2480 non-null   object \n",
      " 5   IDENTIFICATION      2480 non-null   object \n",
      "dtypes: float64(1), int64(1), object(4)\n",
      "memory usage: 135.6+ KB\n"
     ]
    }
   ],
   "source": [
    "anemia.info()"
   ]
  },
  {
   "cell_type": "code",
   "execution_count": 84,
   "metadata": {
    "collapsed": true,
    "jupyter": {
     "outputs_hidden": true
    }
   },
   "outputs": [
    {
     "name": "stdout",
     "output_type": "stream",
     "text": [
      "<class 'pandas.core.frame.DataFrame'>\n",
      "Int64Index: 3204 entries, 0 to 5679\n",
      "Data columns (total 6 columns):\n",
      " #   Column              Non-Null Count  Dtype  \n",
      "---  ------              --------------  -----  \n",
      " 0   NO                  3204 non-null   int64  \n",
      " 1   LAB_TEST            3204 non-null   object \n",
      " 2   RESULT              3204 non-null   float64\n",
      " 3   REFERENCE_INTERVAL  3204 non-null   object \n",
      " 4   GENDER              3204 non-null   object \n",
      " 5   IDENTIFICATION      3204 non-null   object \n",
      "dtypes: float64(1), int64(1), object(4)\n",
      "memory usage: 175.2+ KB\n"
     ]
    }
   ],
   "source": [
    "no_anemia.info()"
   ]
  },
  {
   "cell_type": "code",
   "execution_count": 85,
   "metadata": {},
   "outputs": [],
   "source": [
    "anemia_group = anemia.groupby('LAB_TEST')\n",
    "no_anemia_group = no_anemia.groupby('LAB_TEST')"
   ]
  },
  {
   "cell_type": "code",
   "execution_count": 86,
   "metadata": {
    "collapsed": true,
    "jupyter": {
     "outputs_hidden": true
    }
   },
   "outputs": [
    {
     "data": {
      "text/plain": [
       "LAB_TEST\n",
       "Hemoglobin    11.626290\n",
       "MCH           22.776290\n",
       "MCHC          30.327742\n",
       "MCV           85.298548\n",
       "Name: RESULT, dtype: float64"
      ]
     },
     "execution_count": 86,
     "metadata": {},
     "output_type": "execute_result"
    }
   ],
   "source": [
    "anemia_group['RESULT'].mean()"
   ]
  },
  {
   "cell_type": "code",
   "execution_count": 87,
   "metadata": {
    "collapsed": true,
    "jupyter": {
     "outputs_hidden": true
    }
   },
   "outputs": [
    {
     "data": {
      "text/plain": [
       "LAB_TEST\n",
       "Hemoglobin    14.795506\n",
       "MCH           23.005743\n",
       "MCHC          30.192010\n",
       "MCV           85.698127\n",
       "Name: RESULT, dtype: float64"
      ]
     },
     "execution_count": 87,
     "metadata": {},
     "output_type": "execute_result"
    }
   ],
   "source": [
    "no_anemia_group['RESULT'].mean()"
   ]
  },
  {
   "cell_type": "code",
   "execution_count": 88,
   "metadata": {},
   "outputs": [],
   "source": [
    "male_anemia_group = male_anemia.groupby('LAB_TEST')\n",
    "male_no_anemia_group = male_no_anemia.groupby('LAB_TEST')"
   ]
  },
  {
   "cell_type": "code",
   "execution_count": 89,
   "metadata": {
    "collapsed": true,
    "jupyter": {
     "outputs_hidden": true
    }
   },
   "outputs": [
    {
     "data": {
      "text/plain": [
       "LAB_TEST\n",
       "Hemoglobin    11.965777\n",
       "MCH           23.138350\n",
       "MCHC          30.303883\n",
       "MCV           85.230825\n",
       "Name: RESULT, dtype: float64"
      ]
     },
     "execution_count": 89,
     "metadata": {},
     "output_type": "execute_result"
    }
   ],
   "source": [
    "male_anemia_group['RESULT'].mean()"
   ]
  },
  {
   "cell_type": "code",
   "execution_count": 90,
   "metadata": {
    "collapsed": true,
    "jupyter": {
     "outputs_hidden": true
    }
   },
   "outputs": [
    {
     "data": {
      "text/plain": [
       "LAB_TEST\n",
       "Hemoglobin    15.277134\n",
       "MCH           22.622256\n",
       "MCHC          30.229268\n",
       "MCV           85.048476\n",
       "Name: RESULT, dtype: float64"
      ]
     },
     "execution_count": 90,
     "metadata": {},
     "output_type": "execute_result"
    }
   ],
   "source": [
    "male_no_anemia_group['RESULT'].mean()"
   ]
  },
  {
   "cell_type": "code",
   "execution_count": 91,
   "metadata": {},
   "outputs": [],
   "source": [
    "female_anemia_group = female_anemia.groupby('LAB_TEST')\n",
    "female_no_anemia_group = female_no_anemia.groupby('LAB_TEST')"
   ]
  },
  {
   "cell_type": "code",
   "execution_count": 92,
   "metadata": {
    "collapsed": true,
    "jupyter": {
     "outputs_hidden": true
    }
   },
   "outputs": [
    {
     "data": {
      "text/plain": [
       "LAB_TEST\n",
       "Hemoglobin    10.953846\n",
       "MCH           22.059135\n",
       "MCHC          30.375000\n",
       "MCV           85.432692\n",
       "Name: RESULT, dtype: float64"
      ]
     },
     "execution_count": 92,
     "metadata": {},
     "output_type": "execute_result"
    }
   ],
   "source": [
    "female_anemia_group['RESULT'].mean()"
   ]
  },
  {
   "cell_type": "code",
   "execution_count": 93,
   "metadata": {
    "collapsed": true,
    "jupyter": {
     "outputs_hidden": true
    }
   },
   "outputs": [
    {
     "data": {
      "text/plain": [
       "LAB_TEST\n",
       "Hemoglobin    14.461522\n",
       "MCH           23.271670\n",
       "MCHC          30.166173\n",
       "MCV           86.148626\n",
       "Name: RESULT, dtype: float64"
      ]
     },
     "execution_count": 93,
     "metadata": {},
     "output_type": "execute_result"
    }
   ],
   "source": [
    "female_no_anemia_group['RESULT'].mean()"
   ]
  },
  {
   "cell_type": "markdown",
   "metadata": {},
   "source": [
    " "
   ]
  },
  {
   "cell_type": "markdown",
   "metadata": {},
   "source": [
    " "
   ]
  },
  {
   "cell_type": "markdown",
   "metadata": {},
   "source": [
    "## Hypothesis testing"
   ]
  },
  {
   "cell_type": "markdown",
   "metadata": {},
   "source": [
    "### I'm surious wether anemia can affect hemoglobin in men and women differently. Let's take a closer look at the graphs of heoglabin in men vs women who have anemia."
   ]
  },
  {
   "cell_type": "code",
   "execution_count": 94,
   "metadata": {},
   "outputs": [
    {
     "data": {
      "image/png": "[encoded data removed]",
      "text/plain": [
       "<Figure size 432x288 with 1 Axes>"
      ]
     },
     "metadata": {
      "needs_background": "light"
     },
     "output_type": "display_data"
    }
   ],
   "source": [
    "hemo = sns.boxplot(x = anemia['GENDER'], y = anemia[anemia['LAB_TEST'] == 'Hemoglobin']['RESULT'])\n",
    "hemo.set(ylim = (0, None))\n",
    "hemo.set_ylabel('Hemoglobin (mg/dL)')\n",
    "hemo.set_xlabel('Sex')\n",
    "hemo.set_title('Hemoglobin Levels in Anemic Men vs Anemic Women')\n",
    "\n",
    "fig = hemo.get_figure()\n",
    "fig.savefig('../images/Anemia_Hemoglobin.png')"
   ]
  },
  {
   "cell_type": "markdown",
   "metadata": {},
   "source": [
    "### It looks like the means are similar, but I'm not a doctor, a mean difference of about 1 mg/dL could be a lot larger than I think. So, I should probably test if this difference in mean is statistically significant."
   ]
  },
  {
   "cell_type": "markdown",
   "metadata": {},
   "source": [
    "### H0: There is no difference between hemoglobin levels in mean and women with anemia.\n",
    "\n",
    "### H1: Men with anemia have a higher average hemoglobin level than women with anemia.\n",
    "\n",
    "### P-VALUE: 0.05"
   ]
  },
  {
   "cell_type": "code",
   "execution_count": 96,
   "metadata": {},
   "outputs": [
    {
     "data": {
      "text/plain": [
       "Ttest_indResult(statistic=-13.318371926342884, pvalue=9.283874135739387e-36)"
      ]
     },
     "execution_count": 96,
     "metadata": {},
     "output_type": "execute_result"
    }
   ],
   "source": [
    "stats.ttest_ind(female_anemia[female_anemia['LAB_TEST'] == 'Hemoglobin']['RESULT'], male_anemia[male_anemia['LAB_TEST'] == 'Hemoglobin']['RESULT'])"
   ]
  },
  {
   "cell_type": "markdown",
   "metadata": {},
   "source": [
    "### With a p-value this small, It looks like men with anemia do have higher average hemglobin levels than women with anemia."
   ]
  },
  {
   "cell_type": "markdown",
   "metadata": {},
   "source": [
    " "
   ]
  },
  {
   "cell_type": "markdown",
   "metadata": {},
   "source": [
    " "
   ]
  },
  {
   "cell_type": "markdown",
   "metadata": {},
   "source": [
    "### This makes me wonder, is this actually because anemia affects men and women differently, or do men simply have higher hemoglobin levels naturally?\n",
    "\n",
    "### These aren't mutually exclusive scenarios, it's possible that men could have higher hemoglobin naturally, and that they are affected by anemia differently as well, so I can't test this directly here. However, I can test if men have naturally higher hemoglobin for some more insight."
   ]
  },
  {
   "cell_type": "markdown",
   "metadata": {},
   "source": [
    " "
   ]
  },
  {
   "cell_type": "markdown",
   "metadata": {},
   "source": [
    "### H0: There is no difference between hemoglobin levels in mean and women without anemia.\n",
    "\n",
    "### H1: Men without anemia have a higher average hemoglobin level than women without anemia.\n",
    "\n",
    "### P-VALUE: 0.05"
   ]
  },
  {
   "cell_type": "markdown",
   "metadata": {},
   "source": [
    " "
   ]
  },
  {
   "cell_type": "markdown",
   "metadata": {},
   "source": [
    "### First, let's break out the graph again for a better visual."
   ]
  },
  {
   "cell_type": "code",
   "execution_count": 97,
   "metadata": {},
   "outputs": [
    {
     "data": {
      "image/png": "[encoded data removed]",
      "text/plain": [
       "<Figure size 432x288 with 1 Axes>"
      ]
     },
     "metadata": {
      "needs_background": "light"
     },
     "output_type": "display_data"
    }
   ],
   "source": [
    "hemo2 = sns.boxplot(x = no_anemia['GENDER'], y = no_anemia[no_anemia['LAB_TEST'] == 'Hemoglobin']['RESULT'])\n",
    "hemo2.set(ylim = (0, None))\n",
    "hemo2.set_ylabel('Hemoglobin (mg/dL)')\n",
    "hemo2.set_xlabel('Sex')\n",
    "hemo2.set_title('Hemoglobin levels in Men and Women Without Anemia')\n",
    "\n",
    "fig3 = hemo2.get_figure()\n",
    "fig3.savefig('../images/Hemo_Without_Anemia.png')"
   ]
  },
  {
   "cell_type": "markdown",
   "metadata": {},
   "source": [
    " "
   ]
  },
  {
   "cell_type": "markdown",
   "metadata": {},
   "source": [
    " "
   ]
  },
  {
   "cell_type": "code",
   "execution_count": 99,
   "metadata": {},
   "outputs": [
    {
     "data": {
      "text/plain": [
       "Ttest_indResult(statistic=-9.02967623116839, pvalue=1.2683051458765443e-18)"
      ]
     },
     "execution_count": 99,
     "metadata": {},
     "output_type": "execute_result"
    }
   ],
   "source": [
    "stats.ttest_ind(female_no_anemia[female_no_anemia['LAB_TEST'] == 'Hemoglobin']['RESULT'], male_no_anemia[male_no_anemia['LAB_TEST'] == 'Hemoglobin']['RESULT'])"
   ]
  },
  {
   "cell_type": "markdown",
   "metadata": {},
   "source": [
    "### With a p-value this much lower than 0.05, I have to accept the alternative hypothesis. Men without anemia seem to naturally have higher levels of hemoglobin than women without anemia."
   ]
  },
  {
   "cell_type": "markdown",
   "metadata": {},
   "source": [
    "### While this certainly doesn't mean that anemia can't affect hemoglobin levels in men and women differently, it does mean that if that is the case, it isn't the only reason that men with anemia have higher hemoglobin levels than women with anemia."
   ]
  },
  {
   "cell_type": "markdown",
   "metadata": {},
   "source": []
  },
  {
   "cell_type": "markdown",
   "metadata": {},
   "source": []
  },
  {
   "cell_type": "markdown",
   "metadata": {},
   "source": []
  },
  {
   "cell_type": "markdown",
   "metadata": {},
   "source": []
  },
  {
   "cell_type": "markdown",
   "metadata": {},
   "source": []
  }
 ],
 "metadata": {
  "kernelspec": {
   "display_name": "Python 3",
   "language": "python",
   "name": "python3"
  },
  "language_info": {
   "codemirror_mode": {
    "name": "ipython",
    "version": 3
   },
   "file_extension": ".py",
   "mimetype": "text/x-python",
   "name": "python",
   "nbconvert_exporter": "python",
   "pygments_lexer": "ipython3",
   "version": "3.8.5"
  }
 },
 "nbformat": 4,
 "nbformat_minor": 4
}
