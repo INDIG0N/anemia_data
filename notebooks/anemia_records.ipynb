{
 "cells": [
  {
   "cell_type": "markdown",
   "metadata": {},
   "source": [
    "# Dataset 2: Anemia Records"
   ]
  },
  {
   "cell_type": "code",
   "execution_count": 3,
   "metadata": {},
   "outputs": [],
   "source": [
    "import numpy as np\n",
    "import pandas as pd\n",
    "import scipy.stats as stats\n",
    "import matplotlib.pyplot as plt"
   ]
  },
  {
   "cell_type": "code",
   "execution_count": 24,
   "metadata": {},
   "outputs": [],
   "source": [
    "full = pd.read_csv('../data/Anemia.csv')\n",
    "\n",
    "anemia = full[full['IDENTIFICATION'] == 'Anemia']\n",
    "no_anemia = full[full['IDENTIFICATION'] == 'Not Anemia']\n",
    "\n",
    "male_anemia = anemia[anemia['GENDER'] == 'Male']\n",
    "female_anemia = anemia[anemia['GENDER'] == 'Female']\n",
    "\n",
    "male_no_anemia = no_anemia[no_anemia['GENDER'] == 'Male']\n",
    "female_no_anemia = no_anemia[no_anemia['GENDER'] == 'Female']"
   ]
  },
  {
   "cell_type": "code",
   "execution_count": 5,
   "metadata": {},
   "outputs": [
    {
     "data": {
      "text/html": [
       "<div>\n",
       "<style scoped>\n",
       "    .dataframe tbody tr th:only-of-type {\n",
       "        vertical-align: middle;\n",
       "    }\n",
       "\n",
       "    .dataframe tbody tr th {\n",
       "        vertical-align: top;\n",
       "    }\n",
       "\n",
       "    .dataframe thead th {\n",
       "        text-align: right;\n",
       "    }\n",
       "</style>\n",
       "<table border=\"1\" class=\"dataframe\">\n",
       "  <thead>\n",
       "    <tr style=\"text-align: right;\">\n",
       "      <th></th>\n",
       "      <th>NO</th>\n",
       "      <th>LAB_TEST</th>\n",
       "      <th>RESULT</th>\n",
       "      <th>REFERENCE_INTERVAL</th>\n",
       "      <th>GENDER</th>\n",
       "      <th>IDENTIFICATION</th>\n",
       "    </tr>\n",
       "  </thead>\n",
       "  <tbody>\n",
       "    <tr>\n",
       "      <th>0</th>\n",
       "      <td>1</td>\n",
       "      <td>Hemoglobin</td>\n",
       "      <td>14.9</td>\n",
       "      <td>13.5 - 17.5</td>\n",
       "      <td>Male</td>\n",
       "      <td>Not Anemia</td>\n",
       "    </tr>\n",
       "    <tr>\n",
       "      <th>1</th>\n",
       "      <td>1</td>\n",
       "      <td>MCH</td>\n",
       "      <td>22.7</td>\n",
       "      <td>27.0 - 31.0</td>\n",
       "      <td>Male</td>\n",
       "      <td>Not Anemia</td>\n",
       "    </tr>\n",
       "    <tr>\n",
       "      <th>2</th>\n",
       "      <td>1</td>\n",
       "      <td>MCHC</td>\n",
       "      <td>29.1</td>\n",
       "      <td>32.0 - 36.0</td>\n",
       "      <td>Male</td>\n",
       "      <td>Not Anemia</td>\n",
       "    </tr>\n",
       "    <tr>\n",
       "      <th>3</th>\n",
       "      <td>1</td>\n",
       "      <td>MCV</td>\n",
       "      <td>83.7</td>\n",
       "      <td>82.0 - 92.0</td>\n",
       "      <td>Male</td>\n",
       "      <td>Not Anemia</td>\n",
       "    </tr>\n",
       "    <tr>\n",
       "      <th>4</th>\n",
       "      <td>2</td>\n",
       "      <td>Hemoglobin</td>\n",
       "      <td>15.9</td>\n",
       "      <td>12.0 - 16.0</td>\n",
       "      <td>Female</td>\n",
       "      <td>Not Anemia</td>\n",
       "    </tr>\n",
       "  </tbody>\n",
       "</table>\n",
       "</div>"
      ],
      "text/plain": [
       "   NO    LAB_TEST  RESULT REFERENCE_INTERVAL  GENDER IDENTIFICATION\n",
       "0   1  Hemoglobin    14.9        13.5 - 17.5    Male     Not Anemia\n",
       "1   1         MCH    22.7        27.0 - 31.0    Male     Not Anemia\n",
       "2   1        MCHC    29.1        32.0 - 36.0    Male     Not Anemia\n",
       "3   1         MCV    83.7        82.0 - 92.0    Male     Not Anemia\n",
       "4   2  Hemoglobin    15.9        12.0 - 16.0  Female     Not Anemia"
      ]
     },
     "execution_count": 5,
     "metadata": {},
     "output_type": "execute_result"
    }
   ],
   "source": [
    "full.head()"
   ]
  },
  {
   "cell_type": "code",
   "execution_count": 6,
   "metadata": {
    "collapsed": true,
    "jupyter": {
     "outputs_hidden": true
    }
   },
   "outputs": [
    {
     "name": "stdout",
     "output_type": "stream",
     "text": [
      "<class 'pandas.core.frame.DataFrame'>\n",
      "RangeIndex: 5684 entries, 0 to 5683\n",
      "Data columns (total 6 columns):\n",
      " #   Column              Non-Null Count  Dtype  \n",
      "---  ------              --------------  -----  \n",
      " 0   NO                  5684 non-null   int64  \n",
      " 1   LAB_TEST            5684 non-null   object \n",
      " 2   RESULT              5684 non-null   float64\n",
      " 3   REFERENCE_INTERVAL  5684 non-null   object \n",
      " 4   GENDER              5684 non-null   object \n",
      " 5   IDENTIFICATION      5684 non-null   object \n",
      "dtypes: float64(1), int64(1), object(4)\n",
      "memory usage: 266.6+ KB\n"
     ]
    }
   ],
   "source": [
    "full.info()"
   ]
  },
  {
   "cell_type": "code",
   "execution_count": 9,
   "metadata": {
    "collapsed": true,
    "jupyter": {
     "outputs_hidden": true
    }
   },
   "outputs": [
    {
     "name": "stdout",
     "output_type": "stream",
     "text": [
      "<class 'pandas.core.frame.DataFrame'>\n",
      "Int64Index: 2480 entries, 8 to 5683\n",
      "Data columns (total 6 columns):\n",
      " #   Column              Non-Null Count  Dtype  \n",
      "---  ------              --------------  -----  \n",
      " 0   NO                  2480 non-null   int64  \n",
      " 1   LAB_TEST            2480 non-null   object \n",
      " 2   RESULT              2480 non-null   float64\n",
      " 3   REFERENCE_INTERVAL  2480 non-null   object \n",
      " 4   GENDER              2480 non-null   object \n",
      " 5   IDENTIFICATION      2480 non-null   object \n",
      "dtypes: float64(1), int64(1), object(4)\n",
      "memory usage: 135.6+ KB\n"
     ]
    }
   ],
   "source": [
    "anemia.info()"
   ]
  },
  {
   "cell_type": "code",
   "execution_count": 10,
   "metadata": {
    "collapsed": true,
    "jupyter": {
     "outputs_hidden": true
    }
   },
   "outputs": [
    {
     "name": "stdout",
     "output_type": "stream",
     "text": [
      "<class 'pandas.core.frame.DataFrame'>\n",
      "Int64Index: 3204 entries, 0 to 5679\n",
      "Data columns (total 6 columns):\n",
      " #   Column              Non-Null Count  Dtype  \n",
      "---  ------              --------------  -----  \n",
      " 0   NO                  3204 non-null   int64  \n",
      " 1   LAB_TEST            3204 non-null   object \n",
      " 2   RESULT              3204 non-null   float64\n",
      " 3   REFERENCE_INTERVAL  3204 non-null   object \n",
      " 4   GENDER              3204 non-null   object \n",
      " 5   IDENTIFICATION      3204 non-null   object \n",
      "dtypes: float64(1), int64(1), object(4)\n",
      "memory usage: 175.2+ KB\n"
     ]
    }
   ],
   "source": [
    "no_anemia.info()"
   ]
  },
  {
   "cell_type": "code",
   "execution_count": 19,
   "metadata": {},
   "outputs": [],
   "source": [
    "anemia_group = anemia.groupby('LAB_TEST')\n",
    "no_anemia_group = no_anemia.groupby('LAB_TEST')"
   ]
  },
  {
   "cell_type": "code",
   "execution_count": 20,
   "metadata": {},
   "outputs": [
    {
     "data": {
      "text/plain": [
       "LAB_TEST\n",
       "Hemoglobin    11.626290\n",
       "MCH           22.776290\n",
       "MCHC          30.327742\n",
       "MCV           85.298548\n",
       "Name: RESULT, dtype: float64"
      ]
     },
     "execution_count": 20,
     "metadata": {},
     "output_type": "execute_result"
    }
   ],
   "source": [
    "anemia_group['RESULT'].mean()"
   ]
  },
  {
   "cell_type": "code",
   "execution_count": 22,
   "metadata": {},
   "outputs": [
    {
     "data": {
      "text/plain": [
       "LAB_TEST\n",
       "Hemoglobin    14.795506\n",
       "MCH           23.005743\n",
       "MCHC          30.192010\n",
       "MCV           85.698127\n",
       "Name: RESULT, dtype: float64"
      ]
     },
     "execution_count": 22,
     "metadata": {},
     "output_type": "execute_result"
    }
   ],
   "source": [
    "no_anemia_group['RESULT'].mean()"
   ]
  },
  {
   "cell_type": "code",
   "execution_count": 25,
   "metadata": {},
   "outputs": [],
   "source": [
    "male_anemia_group = male_anemia.groupby('LAB_TEST')\n",
    "male_no_anemia_group = male_no_anemia.groupby('LAB_TEST')"
   ]
  },
  {
   "cell_type": "code",
   "execution_count": 26,
   "metadata": {},
   "outputs": [
    {
     "data": {
      "text/plain": [
       "LAB_TEST\n",
       "Hemoglobin    11.965777\n",
       "MCH           23.138350\n",
       "MCHC          30.303883\n",
       "MCV           85.230825\n",
       "Name: RESULT, dtype: float64"
      ]
     },
     "execution_count": 26,
     "metadata": {},
     "output_type": "execute_result"
    }
   ],
   "source": [
    "male_anemia_group['RESULT'].mean()"
   ]
  },
  {
   "cell_type": "code",
   "execution_count": 27,
   "metadata": {},
   "outputs": [
    {
     "data": {
      "text/plain": [
       "LAB_TEST\n",
       "Hemoglobin    15.277134\n",
       "MCH           22.622256\n",
       "MCHC          30.229268\n",
       "MCV           85.048476\n",
       "Name: RESULT, dtype: float64"
      ]
     },
     "execution_count": 27,
     "metadata": {},
     "output_type": "execute_result"
    }
   ],
   "source": [
    "male_no_anemia_group['RESULT'].mean()"
   ]
  },
  {
   "cell_type": "code",
   "execution_count": 28,
   "metadata": {},
   "outputs": [],
   "source": [
    "female_anemia_group = female_anemia.groupby('LAB_TEST')\n",
    "female_no_anemia_group = female_no_anemia.groupby('LAB_TEST')"
   ]
  },
  {
   "cell_type": "code",
   "execution_count": 30,
   "metadata": {},
   "outputs": [
    {
     "data": {
      "text/plain": [
       "LAB_TEST\n",
       "Hemoglobin    10.953846\n",
       "MCH           22.059135\n",
       "MCHC          30.375000\n",
       "MCV           85.432692\n",
       "Name: RESULT, dtype: float64"
      ]
     },
     "execution_count": 30,
     "metadata": {},
     "output_type": "execute_result"
    }
   ],
   "source": [
    "female_anemia_group['RESULT'].mean()"
   ]
  },
  {
   "cell_type": "code",
   "execution_count": 32,
   "metadata": {},
   "outputs": [
    {
     "data": {
      "text/plain": [
       "LAB_TEST\n",
       "Hemoglobin    14.461522\n",
       "MCH           23.271670\n",
       "MCHC          30.166173\n",
       "MCV           86.148626\n",
       "Name: RESULT, dtype: float64"
      ]
     },
     "execution_count": 32,
     "metadata": {},
     "output_type": "execute_result"
    }
   ],
   "source": [
    "female_no_anemia_group['RESULT'].mean()"
   ]
  },
  {
   "cell_type": "code",
   "execution_count": null,
   "metadata": {},
   "outputs": [],
   "source": []
  }
 ],
 "metadata": {
  "kernelspec": {
   "display_name": "Python 3",
   "language": "python",
   "name": "python3"
  },
  "language_info": {
   "codemirror_mode": {
    "name": "ipython",
    "version": 3
   },
   "file_extension": ".py",
   "mimetype": "text/x-python",
   "name": "python",
   "nbconvert_exporter": "python",
   "pygments_lexer": "ipython3",
   "version": "3.8.5"
  }
 },
 "nbformat": 4,
 "nbformat_minor": 4
}
